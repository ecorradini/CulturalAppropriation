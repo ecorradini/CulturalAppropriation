{
 "cells": [
  {
   "cell_type": "code",
   "execution_count": 2,
   "id": "96b6cf95",
   "metadata": {},
   "outputs": [],
   "source": [
    "import pickle\n",
    "import networkx as nx"
   ]
  },
  {
   "cell_type": "code",
   "execution_count": null,
   "id": "5ceeb115",
   "metadata": {},
   "outputs": [],
   "source": [
    "MLN = pickle.load(open('../Multilayer Network/MLN.pickle', 'rb'))"
   ]
  },
  {
   "cell_type": "code",
   "execution_count": 56,
   "id": "4059d68f",
   "metadata": {},
   "outputs": [],
   "source": [
    "content_layer = pickle.load(open('../Multilayer Network/content_layer.pickle', 'rb'))"
   ]
  },
  {
   "cell_type": "code",
   "execution_count": null,
   "id": "a7b98fda",
   "metadata": {},
   "outputs": [],
   "source": [
    "# Compute PageRank\n",
    "pagerank = nx.pagerank(content_layer)"
   ]
  },
  {
   "cell_type": "code",
   "execution_count": 10,
   "id": "61c2e7f4",
   "metadata": {},
   "outputs": [],
   "source": [
    "# Compute Clustering Coefficient\n",
    "import networkx as nx\n",
    "import concurrent.futures\n",
    "\n",
    "def compute_clustering(node):\n",
    "    triangles = sum(1 for v in nx.all_neighbors(content_layer, node) if v in content_layer[node])\n",
    "    degree = content_layer.degree(node)\n",
    "    if degree < 2:\n",
    "        return 0\n",
    "    else:\n",
    "        return 2.0 * triangles / (degree * (degree - 1))\n",
    "\n",
    "with concurrent.futures.ThreadPoolExecutor() as executor:\n",
    "    clustering = {n: executor.submit(compute_clustering, n) for n in content_layer.nodes()}\n",
    "    clustering = {n: f.result() if content_layer.degree(n) >= 2 else 0 for n, f in clustering.items()}"
   ]
  },
  {
   "cell_type": "code",
   "execution_count": 12,
   "id": "96e64b39",
   "metadata": {},
   "outputs": [],
   "source": [
    "pickle.dump(clustering, open('clustering.pickle', 'wb'))"
   ]
  },
  {
   "cell_type": "code",
   "execution_count": 24,
   "id": "5b3625ab",
   "metadata": {},
   "outputs": [],
   "source": [
    "degree_centralities = nx.degree_centrality(content_layer)\n",
    "pickle.dump(degree_centralities, open('degree_centralities.pickle', 'wb'))"
   ]
  },
  {
   "cell_type": "code",
   "execution_count": 48,
   "id": "881a5921",
   "metadata": {},
   "outputs": [],
   "source": [
    "pagerank = pickle.load(open('pagerank.pickle', 'rb'))\n",
    "clustering = pickle.load(open('clustering.pickle', 'rb'))\n",
    "degree_centralities = pickle.load(open('degree_centralities.pickle', 'rb'))"
   ]
  },
  {
   "cell_type": "code",
   "execution_count": 49,
   "id": "82c44a17",
   "metadata": {},
   "outputs": [],
   "source": [
    "def normalize_values(dictionary):\n",
    "    min_value = min(dictionary.values())\n",
    "    max_value = max(dictionary.values())\n",
    "    for user in dictionary.keys():\n",
    "        try:\n",
    "            dictionary[user] = (dictionary[user] - min_value) / (max_value - min_value)\n",
    "        except:\n",
    "            dictionary[user] = 1\n",
    "    return dictionary\n",
    "\n",
    "pagerank = normalize_values(pagerank)\n",
    "degree_centralities = normalize_values(degree_centralities)\n",
    "clustering_coefficient = normalize_values(clustering)"
   ]
  },
  {
   "cell_type": "code",
   "execution_count": 50,
   "id": "bf7cedec",
   "metadata": {},
   "outputs": [
    {
     "data": {
      "image/png": "[encoded data removed]",
      "text/plain": [
       "<Figure size 1080x360 with 3 Axes>"
      ]
     },
     "metadata": {
      "needs_background": "light"
     },
     "output_type": "display_data"
    }
   ],
   "source": [
    "import matplotlib.pyplot as plt\n",
    "plt.rcParams.update({'font.size': 12})\n",
    "\n",
    "# Extract the values from the dictionaries\n",
    "pagerank_values = list(pagerank.values())\n",
    "closeness_centrality_values = list(degree_centralities.values())\n",
    "clustering_coefficient_values = list(clustering_coefficient.values())\n",
    "\n",
    "# Plot the distributions in 3 different plots in a same figure\n",
    "fig, (ax1, ax2, ax3) = plt.subplots(1, 3, figsize=(15, 5))\n",
    "ax1.hist(pagerank_values, bins=100, color='blue')\n",
    "ax1.set_title('Pagerank Distribution')\n",
    "ax2.hist(closeness_centrality_values, bins=100, color='red')\n",
    "ax2.set_title('Degree Centrality Distribution')\n",
    "ax3.hist(clustering_coefficient_values, bins=100, color='green')\n",
    "ax3.set_title('Clustering Coefficient Distribution')\n",
    "plt.savefig('PC_CC.pdf')\n",
    "plt.show()"
   ]
  },
  {
   "cell_type": "code",
   "execution_count": 52,
   "id": "a64b95b5",
   "metadata": {},
   "outputs": [
    {
     "name": "stdout",
     "output_type": "stream",
     "text": [
      "5879\n"
     ]
    }
   ],
   "source": [
    "biggest_peak_pagerank = {}\n",
    "for pg in pagerank:\n",
    "    if pagerank[pg] >= 0.5 and pagerank[pg] <= 0.6:\n",
    "        biggest_peak_pagerank[pg] = pagerank[pg]\n",
    "print(len(biggest_peak_pagerank))"
   ]
  },
  {
   "cell_type": "code",
   "execution_count": 53,
   "id": "e44c1608",
   "metadata": {},
   "outputs": [
    {
     "name": "stdout",
     "output_type": "stream",
     "text": [
      "11154\n"
     ]
    }
   ],
   "source": [
    "biggest_peak_degree = {}\n",
    "for dg in degree_centralities:\n",
    "    if degree_centralities[dg] >= 0.78 and degree_centralities[dg] <= 0.83:\n",
    "        biggest_peak_degree[dg] = degree_centralities[dg]\n",
    "print(len(biggest_peak_degree))"
   ]
  },
  {
   "cell_type": "code",
   "execution_count": 54,
   "id": "1fb5cdc1",
   "metadata": {},
   "outputs": [],
   "source": [
    "intersection = set(biggest_peak_pagerank.keys()).intersection(set(biggest_peak_degree.keys()))"
   ]
  },
  {
   "cell_type": "code",
   "execution_count": 57,
   "id": "4b642db1",
   "metadata": {},
   "outputs": [],
   "source": [
    "labels = nx.get_edge_attributes(content_layer, 'label')\n",
    "labels2 = {label: topics for label, topics in labels.items() if intersection & set(label)}"
   ]
  },
  {
   "cell_type": "code",
   "execution_count": 58,
   "id": "64e94ec3",
   "metadata": {},
   "outputs": [],
   "source": [
    "topics = {}\n",
    "for label_topics in labels2.values():\n",
    "    for topic in label_topics:\n",
    "        try:\n",
    "            topics[topic] += 1\n",
    "        except:\n",
    "            topics[topic] = 1\n",
    "\n",
    "for t in topics:\n",
    "    topics[t] = (topics[t]/len(labels2))*100"
   ]
  },
  {
   "cell_type": "code",
   "execution_count": 59,
   "id": "0301a51b",
   "metadata": {
    "scrolled": true
   },
   "outputs": [
    {
     "data": {
      "image/png": "[encoded data removed]",
      "text/plain": [
       "<Figure size 720x360 with 1 Axes>"
      ]
     },
     "metadata": {
      "needs_background": "light"
     },
     "output_type": "display_data"
    }
   ],
   "source": [
    "import matplotlib.pyplot as plt\n",
    "\n",
    "# Order topic counts by number of occurrences\n",
    "sorted_topic_counts = dict(sorted(topics.items(), key=lambda item: item[1], reverse=True))\n",
    "\n",
    "# Plot the top 50 topics\n",
    "labels = list(sorted_topic_counts.keys())[:10]\n",
    "values = list(sorted_topic_counts.values())[:10]\n",
    "plt.figure(figsize=(10,5))\n",
    "plt.bar(labels, values)\n",
    "plt.xlabel('Topic')\n",
    "plt.ylabel('Percentage of presence in the edges')\n",
    "plt.xticks(rotation=90)\n",
    "plt.tight_layout()\n",
    "plt.savefig('topics_key_contents.pdf')\n",
    "plt.show()"
   ]
  },
  {
   "cell_type": "code",
   "execution_count": null,
   "id": "58d79526",
   "metadata": {},
   "outputs": [],
   "source": [
    "keytopics_net = content_layer.subgraph(list(intersection))\n",
    "pickle.dump(keytopics_net, open('keytopics_net', 'wb'))"
   ]
  },
  {
   "cell_type": "code",
   "execution_count": 3,
   "id": "b7164b1b",
   "metadata": {},
   "outputs": [],
   "source": [
    "keytopics_net = pickle.load(open('keytopics_net', 'rb'))\n",
    "user_layer = pickle.load(open('../Multilayer Network/user_layer.pickle', 'rb'))"
   ]
  },
  {
   "cell_type": "code",
   "execution_count": 6,
   "id": "fb34aa29",
   "metadata": {},
   "outputs": [],
   "source": [
    "MLN = pickle.load(open('../Multilayer Network/MLN.pickle', 'rb'))"
   ]
  },
  {
   "cell_type": "code",
   "execution_count": 7,
   "id": "2e07063d",
   "metadata": {},
   "outputs": [],
   "source": [
    "multi_layer_edges = [(u,v,data) for u,v,data in MLN.edges(data=True) if v in keytopics_net.nodes and data['layer']=='multi_u_c']"
   ]
  },
  {
   "cell_type": "code",
   "execution_count": 8,
   "id": "e7f0e238",
   "metadata": {},
   "outputs": [
    {
     "data": {
      "text/plain": [
       "6551"
      ]
     },
     "execution_count": 8,
     "metadata": {},
     "output_type": "execute_result"
    }
   ],
   "source": [
    "len(multi_layer_edges)"
   ]
  },
  {
   "cell_type": "code",
   "execution_count": 10,
   "id": "84f5b788",
   "metadata": {},
   "outputs": [],
   "source": [
    "t_user_layer = nx.Graph()\n",
    "for t in keytopics_net.nodes:\n",
    "    t_user_layer.add_node(t)"
   ]
  },
  {
   "cell_type": "code",
   "execution_count": 17,
   "id": "7d910699",
   "metadata": {},
   "outputs": [],
   "source": [
    "user_to_t_map = {}\n",
    "for edge in multi_layer_edges:\n",
    "    if edge[0] not in user_to_t_map:\n",
    "        user_to_t_map[edge[0]] = []\n",
    "    user_to_t_map[edge[0]].append(edge[1])\n",
    "user_to_t_map_filtered = {}\n",
    "for c in user_to_t_map:\n",
    "    if len(user_to_t_map[c]) > 1:\n",
    "        user_to_t_map_filtered[c] = user_to_t_map[c]"
   ]
  },
  {
   "cell_type": "code",
   "execution_count": 31,
   "id": "e246c618",
   "metadata": {},
   "outputs": [
    {
     "data": {
      "text/plain": [
       "1475"
      ]
     },
     "execution_count": 31,
     "metadata": {},
     "output_type": "execute_result"
    }
   ],
   "source": [
    "key_users = pickle.load(open('key_users.pickle', 'rb'))\n",
    "len(set(user_to_t_map.keys()).intersection(set(key_users)))"
   ]
  },
  {
   "cell_type": "code",
   "execution_count": 20,
   "id": "63363e3f",
   "metadata": {},
   "outputs": [
    {
     "data": {
      "text/html": [
       "<div>\n",
       "<style scoped>\n",
       "    .dataframe tbody tr th:only-of-type {\n",
       "        vertical-align: middle;\n",
       "    }\n",
       "\n",
       "    .dataframe tbody tr th {\n",
       "        vertical-align: top;\n",
       "    }\n",
       "\n",
       "    .dataframe thead th {\n",
       "        text-align: right;\n",
       "    }\n",
       "</style>\n",
       "<table border=\"1\" class=\"dataframe\">\n",
       "  <thead>\n",
       "    <tr style=\"text-align: right;\">\n",
       "      <th></th>\n",
       "      <th>id</th>\n",
       "      <th>parent_id</th>\n",
       "      <th>author</th>\n",
       "      <th>subreddit</th>\n",
       "      <th>body</th>\n",
       "    </tr>\n",
       "  </thead>\n",
       "  <tbody>\n",
       "    <tr>\n",
       "      <th>0</th>\n",
       "      <td>hqqvfvb</td>\n",
       "      <td>t1_hqqt3r3</td>\n",
       "      <td>BasicComplexities</td>\n",
       "      <td>VaushV</td>\n",
       "      <td>\\n&amp;gt;. You use French people flippantly, but ...</td>\n",
       "    </tr>\n",
       "    <tr>\n",
       "      <th>1</th>\n",
       "      <td>hqqxbu8</td>\n",
       "      <td>t1_hqqhgr2</td>\n",
       "      <td>RagingAardvark</td>\n",
       "      <td>daddit</td>\n",
       "      <td>Thank you! I was actually recently mulling ove...</td>\n",
       "    </tr>\n",
       "    <tr>\n",
       "      <th>2</th>\n",
       "      <td>hqqz28x</td>\n",
       "      <td>t3_rsooda</td>\n",
       "      <td>malarky-b</td>\n",
       "      <td>asianamerican</td>\n",
       "      <td>Maybe I'm just tired but I don't get the comme...</td>\n",
       "    </tr>\n",
       "    <tr>\n",
       "      <th>3</th>\n",
       "      <td>hqr027z</td>\n",
       "      <td>t1_hqqz64g</td>\n",
       "      <td>AdventurousAnxiety78</td>\n",
       "      <td>Afghan</td>\n",
       "      <td>No, the coins are one of many diverse versions...</td>\n",
       "    </tr>\n",
       "    <tr>\n",
       "      <th>4</th>\n",
       "      <td>hqr0j0w</td>\n",
       "      <td>t3_rt7dak</td>\n",
       "      <td>stjeana</td>\n",
       "      <td>TooAfraidToAsk</td>\n",
       "      <td>Cultural appropriation is vs and doesnt have a...</td>\n",
       "    </tr>\n",
       "  </tbody>\n",
       "</table>\n",
       "</div>"
      ],
      "text/plain": [
       "        id   parent_id                author       subreddit  \\\n",
       "0  hqqvfvb  t1_hqqt3r3     BasicComplexities          VaushV   \n",
       "1  hqqxbu8  t1_hqqhgr2        RagingAardvark          daddit   \n",
       "2  hqqz28x   t3_rsooda             malarky-b   asianamerican   \n",
       "3  hqr027z  t1_hqqz64g  AdventurousAnxiety78          Afghan   \n",
       "4  hqr0j0w   t3_rt7dak               stjeana  TooAfraidToAsk   \n",
       "\n",
       "                                                body  \n",
       "0  \\n&gt;. You use French people flippantly, but ...  \n",
       "1  Thank you! I was actually recently mulling ove...  \n",
       "2  Maybe I'm just tired but I don't get the comme...  \n",
       "3  No, the coins are one of many diverse versions...  \n",
       "4  Cultural appropriation is vs and doesnt have a...  "
      ]
     },
     "execution_count": 20,
     "metadata": {},
     "output_type": "execute_result"
    }
   ],
   "source": [
    "import pandas as pd\n",
    "comments = pd.read_csv('../Dataset/comments_2022.csv', header=0)\n",
    "comments.head()"
   ]
  },
  {
   "cell_type": "code",
   "execution_count": 26,
   "id": "f60b98ef",
   "metadata": {},
   "outputs": [
    {
     "data": {
      "text/plain": [
       "'asianamerican'"
      ]
     },
     "execution_count": 26,
     "metadata": {},
     "output_type": "execute_result"
    }
   ],
   "source": [
    "comments[comments['id'] == 'hqqz28x']['subreddit'].item()"
   ]
  },
  {
   "cell_type": "code",
   "execution_count": 28,
   "id": "f99a9f61",
   "metadata": {},
   "outputs": [],
   "source": [
    "result = {}\n",
    "for user_node, content_nodes in user_to_t_map_filtered.items():\n",
    "    subs = []\n",
    "    for c in content_nodes:\n",
    "        subs.append(comments[comments['id'] == c]['subreddit'].item())\n",
    "    subs = list(set(subs))\n",
    "    for i, c1 in enumerate(content_nodes):\n",
    "        for c2 in content_nodes[i+1:]:\n",
    "            try:\n",
    "                result[(c1,c2)].extend(subs)\n",
    "                result[(c1,c2)] = list(set(result[(c1,c2)]))\n",
    "            except:\n",
    "                result[(c1,c2)] = subs"
   ]
  },
  {
   "cell_type": "code",
   "execution_count": 32,
   "id": "2d5cec12",
   "metadata": {},
   "outputs": [],
   "source": [
    "for res in result.keys():\n",
    "    t_user_layer.add_edge(res[0], res[1], label=result[res])\n",
    "pickle.dump(t_user_layer, open('t_user_layer.pickle', 'wb'))"
   ]
  },
  {
   "cell_type": "code",
   "execution_count": 35,
   "id": "12a93d10",
   "metadata": {},
   "outputs": [
    {
     "name": "stdout",
     "output_type": "stream",
     "text": [
      "5838\n",
      "1025\n",
      "4603\n",
      "6.01589263844315e-05\n"
     ]
    }
   ],
   "source": [
    "print(len(t_user_layer.nodes))\n",
    "print(len(t_user_layer.edges))\n",
    "print(nx.number_of_isolates(t_user_layer))\n",
    "print(nx.density(t_user_layer))"
   ]
  },
  {
   "cell_type": "code",
   "execution_count": 38,
   "id": "3de86c53",
   "metadata": {},
   "outputs": [],
   "source": [
    "community_counts = {}\n",
    "for key, value  in result.items():\n",
    "    for sub in value:\n",
    "        try:\n",
    "            community_counts[sub] += 1\n",
    "        except:\n",
    "            community_counts[sub] = 1"
   ]
  },
  {
   "cell_type": "code",
   "execution_count": 45,
   "id": "e196bf58",
   "metadata": {},
   "outputs": [
    {
     "data": {
      "image/png": "[encoded data removed]",
      "text/plain": [
       "<Figure size 720x360 with 1 Axes>"
      ]
     },
     "metadata": {
      "needs_background": "light"
     },
     "output_type": "display_data"
    }
   ],
   "source": [
    "import matplotlib.pyplot as plt\n",
    "from collections import defaultdict\n",
    "\n",
    "# Order topic counts by number of occurrences\n",
    "sorted_community_counts = dict(sorted(community_counts.items(), key=lambda item: item[1], reverse=True))\n",
    "\n",
    "# Plot the top 50 topics\n",
    "plt.figure(figsize=(10,5))\n",
    "labels = list(sorted_community_counts.keys())[:50]\n",
    "values = list(sorted_community_counts.values())[:50]\n",
    "plt.bar(labels, values)\n",
    "plt.xlabel('Subreddit')\n",
    "plt.ylabel('Number of key contents')\n",
    "plt.xticks(rotation=90)\n",
    "plt.tight_layout()\n",
    "plt.savefig('key_contents_subs.pdf')\n",
    "plt.show()"
   ]
  },
  {
   "cell_type": "code",
   "execution_count": 47,
   "id": "1a07717f",
   "metadata": {},
   "outputs": [
    {
     "data": {
      "text/plain": [
       "2237"
      ]
     },
     "execution_count": 47,
     "metadata": {},
     "output_type": "execute_result"
    }
   ],
   "source": [
    "key_users_comments = comments.loc[comments['author'].isin(key_users)]\n",
    "len(key_users_comments.loc[(key_users_comments['subreddit']=='AmItheAsshole') & ()]"
   ]
  },
  {
   "cell_type": "code",
   "execution_count": null,
   "id": "b5c1d1ea",
   "metadata": {},
   "outputs": [],
   "source": []
  }
 ],
 "metadata": {
  "kernelspec": {
   "display_name": "Python 3 (ipykernel)",
   "language": "python",
   "name": "python3"
  },
  "language_info": {
   "codemirror_mode": {
    "name": "ipython",
    "version": 3
   },
   "file_extension": ".py",
   "mimetype": "text/x-python",
   "name": "python",
   "nbconvert_exporter": "python",
   "pygments_lexer": "ipython3",
   "version": "3.9.5"
  }
 },
 "nbformat": 4,
 "nbformat_minor": 5
}
