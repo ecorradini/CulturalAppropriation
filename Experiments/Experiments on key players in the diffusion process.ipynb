{
 "cells": [
  {
   "cell_type": "code",
   "execution_count": 1,
   "id": "6178d7a3",
   "metadata": {},
   "outputs": [],
   "source": [
    "import pandas as pd\n",
    "import pickle\n",
    "import networkx as nx"
   ]
  },
  {
   "cell_type": "code",
   "execution_count": 2,
   "id": "d9ca2ef2",
   "metadata": {},
   "outputs": [],
   "source": [
    "MLN = pickle.load(open('../Multilayer Network/MLN.pickle', 'rb'))\n",
    "user_layer = pickle.load(open('../Multilayer Network/user_layer.pickle', 'rb'))\n",
    "content_layer = pickle.load(open('../Multilayer Network/content_layer.pickle', 'rb'))"
   ]
  },
  {
   "cell_type": "code",
   "execution_count": 9,
   "id": "a8775bb7",
   "metadata": {},
   "outputs": [],
   "source": [
    "import multiprocessing as mp\n",
    "\n",
    "def compute_centralities(network, centrality_func):\n",
    "    centralities = nx.degree_centrality(network) if centrality_func == 'degree' else \\\n",
    "                  nx.betweenness_centrality(network) if centrality_func == 'betweenness' else \\\n",
    "                  nx.eigenvector_centrality(network) if centrality_func == 'eigenvector' else {}\n",
    "    return centralities\n",
    "\n",
    "def parallel_compute_centralities(network, centrality_funcs):\n",
    "    pool = mp.Pool(processes=mp.cpu_count())\n",
    "    results = [pool.apply_async(compute_centralities, args=(network, centrality_func)) for centrality_func in centrality_funcs]\n",
    "    centralities = [r.get() for r in results]\n",
    "    return centralities\n",
    "\n",
    "centrality_funcs = ['degree', 'betweenness', 'eigenvector']\n",
    "centralities = parallel_compute_centralities(user_layer, centrality_funcs)\n",
    "degree_centralities, betweenness_centralities, eigenvector_centralities = centralities"
   ]
  },
  {
   "cell_type": "code",
   "execution_count": 10,
   "id": "9e47dfb4",
   "metadata": {},
   "outputs": [],
   "source": [
    "def normalize_values(dictionary):\n",
    "    min_value = min(dictionary.values())\n",
    "    max_value = max(dictionary.values())\n",
    "    for user in dictionary.keys():\n",
    "        dictionary[user] = (dictionary[user] - min_value) / (max_value - min_value)\n",
    "    return dictionary\n",
    "\n",
    "degree_centralities = normalize_values(degree_centralities)\n",
    "betweenness_centralities = normalize_values(betweenness_centralities)\n",
    "eigenvector_centralities = normalize_values(eigenvector_centralities)"
   ]
  },
  {
   "cell_type": "code",
   "execution_count": 11,
   "id": "e2006a06",
   "metadata": {},
   "outputs": [
    {
     "data": {
      "image/png": "[encoded data removed]",
      "text/plain": [
       "<Figure size 1080x360 with 3 Axes>"
      ]
     },
     "metadata": {
      "needs_background": "light"
     },
     "output_type": "display_data"
    }
   ],
   "source": [
    "import matplotlib.pyplot as plt\n",
    "plt.rcParams.update({'font.size': 12})\n",
    "\n",
    "# Extract the values from the dictionaries\n",
    "degree_values = list(degree_centralities.values())\n",
    "betweenness_values = list(betweenness_centralities.values())\n",
    "eigenvector_values = list(eigenvector_centralities.values())\n",
    "\n",
    "# Plot the distributions in 3 different plots in a same figure\n",
    "fig, (ax1, ax2, ax3) = plt.subplots(1, 3, figsize=(15, 5))\n",
    "ax1.hist(degree_values, bins=100, color='blue')\n",
    "ax1.set_ylim(0,17500)\n",
    "ax1.set_title('Degree Centrality Distribution')\n",
    "ax2.hist(betweenness_values, bins=100, color='red')\n",
    "ax2.set_ylim(0,17500)\n",
    "ax2.set_title('Betweenness Centrality Distribution')\n",
    "ax3.hist(eigenvector_values, bins=100, color='green')\n",
    "ax3.set_ylim(0,17500)\n",
    "ax3.set_title('Eigenvector Centrality Distribution')\n",
    "plt.savefig('centralities.pdf')\n",
    "plt.show()"
   ]
  },
  {
   "cell_type": "code",
   "execution_count": 12,
   "id": "9ff7478d",
   "metadata": {},
   "outputs": [
    {
     "name": "stdout",
     "output_type": "stream",
     "text": [
      "3834\n"
     ]
    }
   ],
   "source": [
    "import numpy as np\n",
    "import pickle\n",
    "\n",
    "def topsis(degree_centralities, betweenness_centralities, eigenvector_centralities, weights, impact):\n",
    "    n = len(degree_centralities)\n",
    "    decision_matrix = np.zeros((n, 3))\n",
    "    decision_matrix[:, 0] = list(degree_centralities.values())\n",
    "    decision_matrix[:, 1] = list(betweenness_centralities.values())\n",
    "    decision_matrix[:, 2] = list(eigenvector_centralities.values())\n",
    "    weighted_matrix = decision_matrix * weights\n",
    "    normalized_matrix = weighted_matrix / np.linalg.norm(weighted_matrix, axis=0)\n",
    "    ideal_positive = np.max(normalized_matrix, axis=0) * impact\n",
    "    ideal_negative = np.min(normalized_matrix, axis=0) * impact\n",
    "    distances_positive = np.linalg.norm(ideal_positive - normalized_matrix, axis=1)\n",
    "    distances_negative = np.linalg.norm(normalized_matrix - ideal_negative, axis=1)\n",
    "    relative_closeness = distances_negative / (distances_negative + distances_positive)\n",
    "    key_users = [user for user, value in zip(degree_centralities.keys(), relative_closeness) if value >= np.mean(relative_closeness)]\n",
    "    return key_users\n",
    "\n",
    "weights = np.array([0.33, 0.33, 0.34]) # assign equal weights to each criterion\n",
    "impact = np.array([1, 1, 1]) # assign positive impact to each criterion\n",
    "key_users = topsis(degree_centralities, betweenness_centralities, eigenvector_centralities, weights, impact)\n",
    "pickle.dump(key_users, open('key_users.pickle', 'wb'))\n",
    "print(len(key_users))"
   ]
  },
  {
   "cell_type": "code",
   "execution_count": 44,
   "id": "3c905046",
   "metadata": {},
   "outputs": [
    {
     "data": {
      "text/plain": [
       "2254509"
      ]
     },
     "execution_count": 44,
     "metadata": {},
     "output_type": "execute_result"
    }
   ],
   "source": [
    "keyusers_net = user_layer.subgraph(key_users)\n",
    "len(keyusers_net.edges)"
   ]
  },
  {
   "cell_type": "code",
   "execution_count": 45,
   "id": "9ea8eef3",
   "metadata": {},
   "outputs": [
    {
     "name": "stdout",
     "output_type": "stream",
     "text": [
      "0.3068252107654187\n"
     ]
    }
   ],
   "source": [
    "print(nx.density(keyusers_net))"
   ]
  },
  {
   "cell_type": "code",
   "execution_count": 3,
   "id": "251f4c2d",
   "metadata": {},
   "outputs": [],
   "source": [
    "import multiprocessing as mp\n",
    "key_users = pickle.load(open('key_users.pickle', 'rb'))"
   ]
  },
  {
   "cell_type": "code",
   "execution_count": 4,
   "id": "7194d32e",
   "metadata": {},
   "outputs": [],
   "source": [
    "user_content_layer = nx.Graph()\n",
    "for u in key_users:\n",
    "    user_content_layer.add_node(u)\n",
    "multi_layer_edges = [(u,v,data) for u,v,data in MLN.edges(data=True) if data['layer']=='multi_u_c']\n",
    "multi_layer_edges = [edge for edge in multi_layer_edges if edge[0] in key_users or edge[1] in key_users]\n",
    "content_edges = [(c1,c2,data) for c1,c2,data in MLN.edges(data=True) if data['layer']=='content']\n",
    "del MLN\n",
    "del user_layer\n",
    "del content_layer"
   ]
  },
  {
   "cell_type": "code",
   "execution_count": 5,
   "id": "e416572b",
   "metadata": {},
   "outputs": [],
   "source": [
    "content_to_user_map = {}\n",
    "for edge in multi_layer_edges:\n",
    "    if edge[1] not in content_to_user_map:\n",
    "        content_to_user_map[edge[1]] = []\n",
    "    content_to_user_map[edge[1]].append(edge[0])\n",
    "content_to_user_map_filtered = {}\n",
    "for c in content_to_user_map:\n",
    "    if len(content_to_user_map[c]) > 1:\n",
    "        content_to_user_map_filtered[c] = content_to_user_map[c]"
   ]
  },
  {
   "cell_type": "code",
   "execution_count": 6,
   "id": "b65e5a58",
   "metadata": {
    "scrolled": true
   },
   "outputs": [],
   "source": [
    "content_edges = [(c1,c2,data) for c1,c2,data in content_edges if c1 in content_to_user_map_filtered.keys() or c2 in content_to_user_map_filtered.keys()]\n",
    "result = {}\n",
    "for content_node, user_nodes in content_to_user_map_filtered.items():\n",
    "    for c1,c2,data in content_edges:\n",
    "        topics = []\n",
    "        if (c1 == content_node or c2 == content_node) and data['layer'] == 'content':\n",
    "            topics.extend(data['label'])\n",
    "        topics = list(set(topics))\n",
    "        for i, u1 in enumerate(user_nodes):\n",
    "            for u2 in user_nodes[i+1:]:\n",
    "                try:\n",
    "                    result[(u1,u2)].extend(topics)\n",
    "                    result[(u1,u2)] = list(set(result[(u1,u2)]))\n",
    "                except:\n",
    "                    result[(u1,u2)] = topics"
   ]
  },
  {
   "cell_type": "code",
   "execution_count": 8,
   "id": "f110d70b",
   "metadata": {},
   "outputs": [
    {
     "data": {
      "text/plain": [
       "691"
      ]
     },
     "execution_count": 8,
     "metadata": {},
     "output_type": "execute_result"
    }
   ],
   "source": [
    "len(result)"
   ]
  },
  {
   "cell_type": "code",
   "execution_count": 9,
   "id": "07b29d53",
   "metadata": {},
   "outputs": [],
   "source": [
    "for res in result.keys():\n",
    "    user_content_layer.add_edge(res[0], res[1], label=result[res])"
   ]
  },
  {
   "cell_type": "code",
   "execution_count": 11,
   "id": "60e87fd3",
   "metadata": {},
   "outputs": [
    {
     "name": "stdout",
     "output_type": "stream",
     "text": [
      "3834\n",
      "691\n",
      "9.404097328460623e-05\n"
     ]
    }
   ],
   "source": [
    "print(len(user_content_layer.nodes))\n",
    "print(len(user_content_layer.edges))\n",
    "print(nx.density(user_content_layer))"
   ]
  },
  {
   "cell_type": "code",
   "execution_count": 12,
   "id": "bc2781d1",
   "metadata": {},
   "outputs": [
    {
     "data": {
      "text/plain": [
       "3254"
      ]
     },
     "execution_count": 12,
     "metadata": {},
     "output_type": "execute_result"
    }
   ],
   "source": [
    "nx.number_of_isolates(user_content_layer)"
   ]
  },
  {
   "cell_type": "code",
   "execution_count": 24,
   "id": "a8ee4dfb",
   "metadata": {},
   "outputs": [
    {
     "data": {
      "image/png": "[encoded data removed]",
      "text/plain": [
       "<Figure size 864x360 with 1 Axes>"
      ]
     },
     "metadata": {
      "needs_background": "light"
     },
     "output_type": "display_data"
    }
   ],
   "source": [
    "import matplotlib.pyplot as plt\n",
    "from collections import defaultdict\n",
    "\n",
    "plt.figure(figsize=(12,5))\n",
    "all_topics = []\n",
    "for topic_list in result.values():\n",
    "    all_topics.extend(topic_list)\n",
    "topic_counts = dict()\n",
    "for topic in all_topics:\n",
    "    if topic in topic_counts:\n",
    "        topic_counts[topic] += 1\n",
    "    else:\n",
    "        topic_counts[topic] = 1\n",
    "\n",
    "# Order topic counts by number of occurrences\n",
    "sorted_topic_counts = dict(sorted(topic_counts.items(), key=lambda item: item[1], reverse=True))\n",
    "\n",
    "# Plot the top 50 topics\n",
    "labels = list(sorted_topic_counts.keys())[:50]\n",
    "values = list(sorted_topic_counts.values())[:50]\n",
    "plt.bar(labels, values)\n",
    "plt.xlabel('Topic')\n",
    "plt.ylabel('Number of Occurrences')\n",
    "plt.xticks(rotation=90)\n",
    "plt.tight_layout()\n",
    "plt.savefig('topics_key.pdf')\n",
    "plt.show()"
   ]
  },
  {
   "cell_type": "code",
   "execution_count": 25,
   "id": "5becf6fc",
   "metadata": {},
   "outputs": [
    {
     "data": {
      "text/plain": [
       "{'culture appropriation': 328,\n",
       " 'food': 164,\n",
       " 'food appropriation': 158,\n",
       " 'food writer': 153,\n",
       " 'culture': 80,\n",
       " 'immigration': 41,\n",
       " 'language': 31,\n",
       " 'wife': 28,\n",
       " 'husband': 28,\n",
       " 'fashion': 27,\n",
       " 'religion': 27,\n",
       " 'race': 25,\n",
       " 'relationship': 25,\n",
       " 'conversation': 21,\n",
       " 'hair': 16,\n",
       " 'black culture': 15,\n",
       " 'communication': 13,\n",
       " 'behavior': 11,\n",
       " 'brown': 11,\n",
       " 'self awareness': 11,\n",
       " 'presence': 11,\n",
       " 'hair color': 10,\n",
       " 'cute': 10,\n",
       " 'crisis': 10,\n",
       " 'administration': 10,\n",
       " 'trump': 10,\n",
       " 'race color': 10,\n",
       " 'culture racism': 9,\n",
       " 'culture fashion': 8,\n",
       " 'racism': 8,\n",
       " 'music': 7,\n",
       " 'culture education': 7,\n",
       " 'culture appreciation': 6,\n",
       " 'racist': 6,\n",
       " 'education': 6,\n",
       " 'opinion': 6,\n",
       " 'mental health': 6,\n",
       " 'culture interpretation': 6,\n",
       " 'culture diversity': 5,\n",
       " 'hair fashion': 5,\n",
       " 'culture name': 5,\n",
       " 'food culture': 5,\n",
       " 'white supremacy': 4,\n",
       " 'style': 4,\n",
       " 'white nationalist': 4,\n",
       " 'anime': 4,\n",
       " 'news': 4,\n",
       " 'hair removal': 4,\n",
       " 'friendship': 4,\n",
       " 'color culture': 4,\n",
       " 'culture appropriateness': 4,\n",
       " 'cool': 3,\n",
       " 'liberation': 3,\n",
       " 'skin': 3,\n",
       " 'importance': 3,\n",
       " 'left': 3,\n",
       " 'right': 3,\n",
       " 'china': 3,\n",
       " 'cuisine': 3,\n",
       " 'culture race': 3,\n",
       " 'color': 3,\n",
       " 'culture respect': 3,\n",
       " 'name': 3,\n",
       " 'debate': 3,\n",
       " 'blonde': 3,\n",
       " 'race discrimination': 3,\n",
       " 'autism': 3,\n",
       " 'culture representation': 3,\n",
       " 'discrimination': 3,\n",
       " 'hair style': 3,\n",
       " 'culture heritage': 3,\n",
       " 'appropriation language': 3,\n",
       " 'hair loss': 3,\n",
       " 'curly hair': 3,\n",
       " 'hair restoration': 3,\n",
       " 'natural hair': 3,\n",
       " 'immigration china': 3,\n",
       " 'political correctness': 2,\n",
       " 'definition': 2,\n",
       " 'costume': 2,\n",
       " 'person': 2,\n",
       " 'skin color': 2,\n",
       " 'human': 2,\n",
       " 'fashion design': 2,\n",
       " 'culture imperialism': 2,\n",
       " 'example': 2,\n",
       " 'japan': 2,\n",
       " 'culture innovation': 2,\n",
       " 'appropriation race': 2,\n",
       " 'love': 2,\n",
       " 'culture shift': 2,\n",
       " 'name name': 2,\n",
       " 'culture design': 2,\n",
       " 'upset': 2,\n",
       " 'name meaning': 2,\n",
       " 'culture research': 2,\n",
       " 'blackness': 2,\n",
       " 'baby name': 2,\n",
       " 'respect': 1,\n",
       " 'representation': 1,\n",
       " 'home': 1,\n",
       " 'phrase': 1,\n",
       " 'music style': 1,\n",
       " 'rock music': 1,\n",
       " 'music artist': 1,\n",
       " 'kilt': 1,\n",
       " 'cross': 1,\n",
       " 'intellectual property': 1,\n",
       " 'culture identity': 1,\n",
       " 'edition': 1,\n",
       " 'scream': 1,\n",
       " 'speech': 1,\n",
       " 'control': 1,\n",
       " 'home design': 1,\n",
       " 'culture industry': 1,\n",
       " 'world': 1,\n",
       " 'term': 1,\n",
       " 'salt': 1,\n",
       " 'affirmative action': 1,\n",
       " 'fashion industry': 1,\n",
       " 'hate': 1,\n",
       " 'thread': 1,\n",
       " 'word': 1,\n",
       " 'appropriate': 1,\n",
       " 'price': 1,\n",
       " 'feminist': 1,\n",
       " 'usage': 1,\n",
       " 'architecture': 1,\n",
       " 'weird': 1,\n",
       " 'suit': 1,\n",
       " 'fashion week': 1,\n",
       " 'poncho': 1,\n",
       " 'culture insensitivity': 1,\n",
       " 'uniqueness': 1,\n",
       " 'freedom': 1,\n",
       " 'church': 1,\n",
       " 'school': 1,\n",
       " 'cancel culture': 1,\n",
       " 'society justice': 1,\n",
       " 'street': 1,\n",
       " 'review article': 1,\n",
       " 'discussion': 1,\n",
       " 'culture business': 1,\n",
       " 'governance': 1,\n",
       " 'education appropriation': 1,\n",
       " 'music appropriation': 1,\n",
       " 'gospel': 1,\n",
       " 'hair treatment': 1,\n",
       " 'haircut': 1,\n",
       " 'best friend': 1,\n",
       " 'kimono culture': 1,\n",
       " 'skin type': 1,\n",
       " 'skin texture': 1,\n",
       " 'culture love': 1,\n",
       " 'prejudice': 1,\n",
       " 'black belt': 1,\n",
       " 'clothing design': 1,\n",
       " 'clothing shopping': 1,\n",
       " 'smart': 1,\n",
       " 'music education': 1,\n",
       " 'dance': 1,\n",
       " 'soul': 1,\n",
       " 'culture influence': 1,\n",
       " 'kimono': 1,\n",
       " 'copyright': 1,\n",
       " 'culture expression': 1,\n",
       " 'culture transmission': 1,\n",
       " 'black hair': 1,\n",
       " 'food cooking': 1,\n",
       " 'spiritual practice': 1,\n",
       " 'colonization': 1,\n",
       " 'race origin': 1,\n",
       " 'appropriation origin': 1,\n",
       " 'symbolism': 1,\n",
       " 'blue': 1,\n",
       " 'language education': 1,\n",
       " 'language research': 1,\n",
       " 'language teaching': 1,\n",
       " 'review': 1,\n",
       " 'language learning': 1,\n",
       " 'vernacular': 1,\n",
       " 'television': 1,\n",
       " 'talk show': 1,\n",
       " 'bowl': 1,\n",
       " 'dish': 1,\n",
       " 'plate': 1,\n",
       " 'straight hair': 1,\n",
       " 'retaliation': 1,\n",
       " 'xenophobia': 1,\n",
       " 'violence': 1,\n",
       " 'sari': 1,\n",
       " 'mental illness': 1,\n",
       " 'bill burr': 1,\n",
       " 'culture herding': 1,\n",
       " 'culture marketing': 1,\n",
       " 'culture conflict': 1,\n",
       " 'knock': 1,\n",
       " 'land': 1,\n",
       " 'culture board': 1,\n",
       " 'appropriateness': 1,\n",
       " 'east': 1,\n",
       " 'stella': 1,\n",
       " 'friend': 1,\n",
       " 'humanism': 1,\n",
       " 'anti racism': 1,\n",
       " 'blackface': 1,\n",
       " 'toxic': 1,\n",
       " 'theme': 1,\n",
       " 'balance': 1,\n",
       " 'culture colonialism': 1,\n",
       " 'fiance': 1,\n",
       " 'traditional clothing': 1,\n",
       " 'heritage': 1,\n",
       " 'culture hermaphrodite': 1,\n",
       " 'leftism': 1,\n",
       " 'culture confusion': 1,\n",
       " 'western culture': 1,\n",
       " 'imperialism': 1,\n",
       " 'nation': 1,\n",
       " 'skin whitening': 1,\n",
       " 'protection': 1,\n",
       " 'attack': 1,\n",
       " 'racialism': 1,\n",
       " 'culture action': 1,\n",
       " 'culture theft': 1,\n",
       " 'exclusion': 1,\n",
       " 'potato': 1,\n",
       " 'food delivery': 1,\n",
       " 'cook': 1,\n",
       " 'restaurant': 1,\n",
       " 'canada': 1,\n",
       " 'fast food': 1}"
      ]
     },
     "execution_count": 25,
     "metadata": {},
     "output_type": "execute_result"
    }
   ],
   "source": [
    "commentkey_user"
   ]
  },
  {
   "cell_type": "code",
   "execution_count": null,
   "id": "1e52f350",
   "metadata": {},
   "outputs": [],
   "source": []
  }
 ],
 "metadata": {
  "kernelspec": {
   "display_name": "Python 3 (ipykernel)",
   "language": "python",
   "name": "python3"
  },
  "language_info": {
   "codemirror_mode": {
    "name": "ipython",
    "version": 3
   },
   "file_extension": ".py",
   "mimetype": "text/x-python",
   "name": "python",
   "nbconvert_exporter": "python",
   "pygments_lexer": "ipython3",
   "version": "3.9.5"
  }
 },
 "nbformat": 4,
 "nbformat_minor": 5
}
