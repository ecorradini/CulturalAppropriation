{
 "cells": [
  {
   "cell_type": "code",
   "execution_count": 1,
   "id": "f4de127c",
   "metadata": {},
   "outputs": [],
   "source": [
    "import pickle\n",
    "import networkx as nx"
   ]
  },
  {
   "cell_type": "code",
   "execution_count": 2,
   "id": "035b3475",
   "metadata": {},
   "outputs": [],
   "source": [
    "def get_sub_graph(G, layer):\n",
    "    sub_graph = nx.Graph()\n",
    "    for node, data in G.nodes(data=True):\n",
    "        if 'layer' in data and data['layer'] == layer:\n",
    "            sub_graph.add_node(node, **data)\n",
    "    for node1, node2, data in G.edges(data=True):\n",
    "        if 'layer' in data and data['layer'] == layer:\n",
    "            sub_graph.add_edge(node1, node2, **data)\n",
    "    return sub_graph"
   ]
  },
  {
   "cell_type": "code",
   "execution_count": 3,
   "id": "ca6bc82b",
   "metadata": {},
   "outputs": [],
   "source": [
    "MLN = pickle.load(open('../Multilayer Network/MLN.pickle', 'rb'))\n",
    "sp_layer = get_sub_graph(MLN, 'socialphenomenon')\n",
    "pickle.dump(sp_layer, open('sp_layer.pickle', 'wb'))\n",
    "del MLN"
   ]
  },
  {
   "cell_type": "code",
   "execution_count": 5,
   "id": "82c9834f",
   "metadata": {},
   "outputs": [],
   "source": [
    "# Compute the clustering coefficient of the sub-type\n",
    "clustering_coeff = nx.average_clustering(sp_layer)\n",
    "\n",
    "# Calculate the number of triangles in the sub-graph\n",
    "triangles = sum(nx.triangles(sp_layer).values()) / 3\n",
    "\n",
    "# Calculate the number of connected triples in the sub-graph\n",
    "connected_triples = sum(nx.triangles(sp_layer).values()) / 6\n",
    "\n",
    "# Calculate the triadic closure\n",
    "triadic_closure = 3 * triangles / connected_triples\n",
    "\n",
    "# Compute the sub-graph centrality of the sub-type\n",
    "sub_graph_centrality = sum(nx.degree_centrality(sp_layer).values())"
   ]
  },
  {
   "cell_type": "code",
   "execution_count": 8,
   "id": "da2d4d1f",
   "metadata": {},
   "outputs": [
    {
     "data": {
      "text/plain": [
       "3.2"
      ]
     },
     "execution_count": 8,
     "metadata": {},
     "output_type": "execute_result"
    }
   ],
   "source": [
    "sub_graph_centrality"
   ]
  },
  {
   "cell_type": "code",
   "execution_count": 9,
   "id": "8c32bae9",
   "metadata": {},
   "outputs": [],
   "source": [
    "social_content_layer = nx.Graph()\n",
    "for s, data in sp_layer.nodes(data=True):\n",
    "    social_content_layer.add_node(s, **data)"
   ]
  },
  {
   "cell_type": "code",
   "execution_count": 10,
   "id": "2f101ed7",
   "metadata": {},
   "outputs": [],
   "source": [
    "MLN = pickle.load(open('../Multilayer Network/MLN.pickle', 'rb'))"
   ]
  },
  {
   "cell_type": "code",
   "execution_count": 11,
   "id": "3f251837",
   "metadata": {},
   "outputs": [],
   "source": [
    "multi_layer_edges = [(u,v,data) for u,v,data in MLN.edges(data=True) if data['layer']=='multi_c_s']"
   ]
  },
  {
   "cell_type": "code",
   "execution_count": 14,
   "id": "1cbf958f",
   "metadata": {},
   "outputs": [],
   "source": [
    "content_to_social_map = {}\n",
    "for edge in multi_layer_edges:\n",
    "    if edge[0] not in content_to_social_map:\n",
    "        content_to_social_map[edge[0]] = []\n",
    "    content_to_social_map[edge[0]].append(edge[1])\n",
    "content_to_social_map_filtered = {}\n",
    "for c in content_to_social_map:\n",
    "    if len(content_to_social_map[c]) > 1:\n",
    "        content_to_social_map_filtered[c] = content_to_social_map[c]"
   ]
  },
  {
   "cell_type": "code",
   "execution_count": 28,
   "id": "8f49b22e",
   "metadata": {},
   "outputs": [],
   "source": [
    "result = {}\n",
    "for content_node, social_nodes in content_to_social_map_filtered.items():\n",
    "    for i, s1 in enumerate(social_nodes):\n",
    "        for s2 in social_nodes[i+1:]:\n",
    "            try:\n",
    "                result[(s1,s2)].extend([content_node])\n",
    "                result[(s1,s2)] = list(set(result[(s1,s2)]))\n",
    "            except:\n",
    "                result[(s1,s2)] = [content_node]"
   ]
  },
  {
   "cell_type": "code",
   "execution_count": 44,
   "id": "49ae12f7",
   "metadata": {},
   "outputs": [],
   "source": [
    "for res in result.keys():\n",
    "    social_content_layer.add_edge(res[0], res[1], label=result[res])\n",
    "pickle.dump(social_content_layer, open('social_content_layer.pickle','wb'))"
   ]
  },
  {
   "cell_type": "code",
   "execution_count": 61,
   "id": "497950e5",
   "metadata": {},
   "outputs": [
    {
     "name": "stdout",
     "output_type": "stream",
     "text": [
      "{'L': 337.0, 'S': 908.2, 'M': 818.6, 'A': 1005.2, 'E': 333.4, 'I': 589.8}\n"
     ]
    },
    {
     "data": {
      "image/png": "[encoded data removed]",
      "text/plain": [
       "<Figure size 576x288 with 1 Axes>"
      ]
     },
     "metadata": {
      "needs_background": "light"
     },
     "output_type": "display_data"
    }
   ],
   "source": [
    "import networkx as nx\n",
    "import matplotlib.pyplot as plt\n",
    "plt.rcParams.update({'font.size': 12})\n",
    "\n",
    "def average_num_labels(G):\n",
    "    node_labels = {}\n",
    "    for node in G.nodes():\n",
    "        edges = G.edges(node, data='label')\n",
    "        labels = []\n",
    "        for _, _, label in edges:\n",
    "            labels += label\n",
    "        node_labels[node] = len(set(labels)) / len(edges)\n",
    "    return node_labels\n",
    "\n",
    "def plot_average_num_labels(G):\n",
    "    node_labels = average_num_labels(G)\n",
    "    plt.figure(figsize=(8,4))\n",
    "    print(node_labels)\n",
    "    sorted_data = sorted(node_labels.items(), key=lambda x: x[1], reverse=True)\n",
    "    labels = [x[0] for x in sorted_data]\n",
    "    values = [x[1] for x in sorted_data]\n",
    "    plt.bar(labels, values)\n",
    "    plt.xlabel('Sub-type')\n",
    "    plt.ylabel('Average number of contents in edges')\n",
    "    plt.savefig('st_occ.pdf')\n",
    "    plt.show()\n",
    "    \n",
    "plot_average_num_labels(social_content_layer)"
   ]
  },
  {
   "cell_type": "code",
   "execution_count": 53,
   "id": "c984a79f",
   "metadata": {},
   "outputs": [],
   "source": [
    "import networkx as nx\n",
    "\n",
    "def compute_centralities(graph):\n",
    "    degree_centrality = nx.degree_centrality(graph)\n",
    "    eigenvector_centrality = nx.eigenvector_centrality_numpy(graph, weight='weight')\n",
    "    betweenness_centrality = nx.betweenness_centrality(graph, weight='weight')\n",
    "    return degree_centrality, eigenvector_centrality, betweenness_centrality\n",
    "\n",
    "# Create the weighted graph\n",
    "for u, v, data in social_content_layer.edges(data=True):\n",
    "    social_content_layer[u][v]['weight'] = len(data['label'])\n",
    "\n",
    "# Compute the centralities\n",
    "degree_centrality, eigenvector_centrality, betweenness_centrality = compute_centralities(social_content_layer)"
   ]
  },
  {
   "cell_type": "code",
   "execution_count": 59,
   "id": "57373866",
   "metadata": {},
   "outputs": [
    {
     "data": {
      "image/png": "[encoded data removed]",
      "text/plain": [
       "<Figure size 576x288 with 1 Axes>"
      ]
     },
     "metadata": {
      "needs_background": "light"
     },
     "output_type": "display_data"
    }
   ],
   "source": [
    "sorted_data = sorted(eigenvector_centrality.items(), key=lambda x: x[1], reverse=True)\n",
    "\n",
    "labels = [x[0] for x in sorted_data]\n",
    "values = [x[1] for x in sorted_data]\n",
    "\n",
    "plt.figure(figsize=(8,4))\n",
    "plt.bar(labels, values)\n",
    "plt.xlabel('Sub-type')\n",
    "plt.ylabel('Eigenvector centrality')\n",
    "plt.savefig('eigen_st.pdf')\n",
    "\n",
    "plt.show()"
   ]
  },
  {
   "cell_type": "code",
   "execution_count": 63,
   "id": "433a92f3",
   "metadata": {},
   "outputs": [
    {
     "name": "stdout",
     "output_type": "stream",
     "text": [
      "{'L': 0.2197476450454089, 'S': 0.49047143554551387, 'M': 0.45916648289208734, 'A': 0.5685347128063432, 'E': 0.24116317871657883, 'I': 0.34485284682738915}\n"
     ]
    }
   ],
   "source": [
    "print(eigenvector_centrality)"
   ]
  },
  {
   "cell_type": "code",
   "execution_count": null,
   "id": "cc61f974",
   "metadata": {},
   "outputs": [],
   "source": []
  }
 ],
 "metadata": {
  "kernelspec": {
   "display_name": "Python 3 (ipykernel)",
   "language": "python",
   "name": "python3"
  },
  "language_info": {
   "codemirror_mode": {
    "name": "ipython",
    "version": 3
   },
   "file_extension": ".py",
   "mimetype": "text/x-python",
   "name": "python",
   "nbconvert_exporter": "python",
   "pygments_lexer": "ipython3",
   "version": "3.9.5"
  }
 },
 "nbformat": 4,
 "nbformat_minor": 5
}
