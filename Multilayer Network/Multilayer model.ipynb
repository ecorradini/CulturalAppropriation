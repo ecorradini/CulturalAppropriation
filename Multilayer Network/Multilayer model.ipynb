{
 "cells": [
  {
   "cell_type": "code",
   "execution_count": 3,
   "id": "cbf46a89",
   "metadata": {},
   "outputs": [],
   "source": [
    "import pandas as pd\n",
    "import networkx as nx\n",
    "import pickle"
   ]
  },
  {
   "cell_type": "markdown",
   "id": "f7e3cc34",
   "metadata": {},
   "source": [
    "### Dataset loading"
   ]
  },
  {
   "cell_type": "code",
   "execution_count": 2,
   "id": "c12dddc9",
   "metadata": {},
   "outputs": [
    {
     "data": {
      "text/html": [
       "<div>\n",
       "<style scoped>\n",
       "    .dataframe tbody tr th:only-of-type {\n",
       "        vertical-align: middle;\n",
       "    }\n",
       "\n",
       "    .dataframe tbody tr th {\n",
       "        vertical-align: top;\n",
       "    }\n",
       "\n",
       "    .dataframe thead th {\n",
       "        text-align: right;\n",
       "    }\n",
       "</style>\n",
       "<table border=\"1\" class=\"dataframe\">\n",
       "  <thead>\n",
       "    <tr style=\"text-align: right;\">\n",
       "      <th></th>\n",
       "      <th>id</th>\n",
       "      <th>parent_id</th>\n",
       "      <th>author</th>\n",
       "      <th>subreddit</th>\n",
       "      <th>body</th>\n",
       "      <th>topics</th>\n",
       "      <th>sub-types</th>\n",
       "    </tr>\n",
       "  </thead>\n",
       "  <tbody>\n",
       "    <tr>\n",
       "      <th>0</th>\n",
       "      <td>hqqvfvb</td>\n",
       "      <td>t1_hqqt3r3</td>\n",
       "      <td>BasicComplexities</td>\n",
       "      <td>VaushV</td>\n",
       "      <td>\\n&amp;gt;. You use French people flippantly, but ...</td>\n",
       "      <td>[racist]</td>\n",
       "      <td>['L', 'S', 'M', 'A']</td>\n",
       "    </tr>\n",
       "    <tr>\n",
       "      <th>1</th>\n",
       "      <td>hqqxbu8</td>\n",
       "      <td>t1_hqqhgr2</td>\n",
       "      <td>RagingAardvark</td>\n",
       "      <td>daddit</td>\n",
       "      <td>Thank you! I was actually recently mulling ove...</td>\n",
       "      <td>[culture appropriation, white supremacy, culture]</td>\n",
       "      <td>['L', 'S', 'E', 'M']</td>\n",
       "    </tr>\n",
       "    <tr>\n",
       "      <th>2</th>\n",
       "      <td>hqr027z</td>\n",
       "      <td>t1_hqqz64g</td>\n",
       "      <td>AdventurousAnxiety78</td>\n",
       "      <td>Afghan</td>\n",
       "      <td>No, the coins are one of many diverse versions...</td>\n",
       "      <td>[traditional dress]</td>\n",
       "      <td>['M', 'A']</td>\n",
       "    </tr>\n",
       "    <tr>\n",
       "      <th>3</th>\n",
       "      <td>hqr0j0w</td>\n",
       "      <td>t3_rt7dak</td>\n",
       "      <td>stjeana</td>\n",
       "      <td>TooAfraidToAsk</td>\n",
       "      <td>Cultural appropriation is vs and doesnt have a...</td>\n",
       "      <td>[culture appropriation, cool, respect, culture]</td>\n",
       "      <td>['I', 'S']</td>\n",
       "    </tr>\n",
       "    <tr>\n",
       "      <th>4</th>\n",
       "      <td>hqr0ska</td>\n",
       "      <td>t3_rt0uqs</td>\n",
       "      <td>kbell2020</td>\n",
       "      <td>Dreadlocks</td>\n",
       "      <td>Hi,\\n\\nWhite mom here, straight hair. My son i...</td>\n",
       "      <td>[culture appropriation]</td>\n",
       "      <td>['M']</td>\n",
       "    </tr>\n",
       "  </tbody>\n",
       "</table>\n",
       "</div>"
      ],
      "text/plain": [
       "        id   parent_id                author       subreddit  \\\n",
       "0  hqqvfvb  t1_hqqt3r3     BasicComplexities          VaushV   \n",
       "1  hqqxbu8  t1_hqqhgr2        RagingAardvark          daddit   \n",
       "2  hqr027z  t1_hqqz64g  AdventurousAnxiety78          Afghan   \n",
       "3  hqr0j0w   t3_rt7dak               stjeana  TooAfraidToAsk   \n",
       "4  hqr0ska   t3_rt0uqs             kbell2020      Dreadlocks   \n",
       "\n",
       "                                                body  \\\n",
       "0  \\n&gt;. You use French people flippantly, but ...   \n",
       "1  Thank you! I was actually recently mulling ove...   \n",
       "2  No, the coins are one of many diverse versions...   \n",
       "3  Cultural appropriation is vs and doesnt have a...   \n",
       "4  Hi,\\n\\nWhite mom here, straight hair. My son i...   \n",
       "\n",
       "                                              topics             sub-types  \n",
       "0                                           [racist]  ['L', 'S', 'M', 'A']  \n",
       "1  [culture appropriation, white supremacy, culture]  ['L', 'S', 'E', 'M']  \n",
       "2                                [traditional dress]            ['M', 'A']  \n",
       "3    [culture appropriation, cool, respect, culture]            ['I', 'S']  \n",
       "4                            [culture appropriation]                 ['M']  "
      ]
     },
     "execution_count": 2,
     "metadata": {},
     "output_type": "execute_result"
    }
   ],
   "source": [
    "# load dataset into pandas dataframe\n",
    "df = pd.read_csv(\"../Dataset/comments_2022_step3.csv\", header=0)\n",
    "df['topics'] = df['topics'].apply(lambda x: x.replace('[','').replace(']','').replace(\"'\",'').split(', '))\n",
    "df = df.loc[df['subreddit']!='[deleted]']\n",
    "df = df.loc[df['author']!='[deleted]']\n",
    "df.head()"
   ]
  },
  {
   "cell_type": "markdown",
   "id": "80787c48",
   "metadata": {},
   "source": [
    "### Empty multilayer"
   ]
  },
  {
   "cell_type": "code",
   "execution_count": 4,
   "id": "d896efdd",
   "metadata": {},
   "outputs": [],
   "source": [
    "# create multilayer network\n",
    "MLN = nx.MultiGraph()\n",
    "pickle.dump(MLN, open('MLN.pickle', 'wb'))"
   ]
  },
  {
   "cell_type": "markdown",
   "id": "a8b36318",
   "metadata": {},
   "source": [
    "### User layer"
   ]
  },
  {
   "cell_type": "code",
   "execution_count": 5,
   "id": "eca16cdd",
   "metadata": {},
   "outputs": [],
   "source": [
    "for user in df['author'].unique():\n",
    "    MLN.add_node(user, layer='user')\n",
    "\n",
    "for row in df.groupby('subreddit')['author'].apply(list).to_frame().iterrows():\n",
    "    sub = row[0]\n",
    "    auts = list(row[1])[0]\n",
    "    if len(auts) > 1:\n",
    "        edges_u = [(a,b,sub) for idx, a in enumerate(auts) for b in auts[idx+1:]]\n",
    "        for edge in edges_u:\n",
    "            MLN.add_edge(edge[0], edge[1], layer='user', label=edge[2])"
   ]
  },
  {
   "cell_type": "markdown",
   "id": "b513a31d",
   "metadata": {},
   "source": [
    "### Content layer"
   ]
  },
  {
   "cell_type": "code",
   "execution_count": 6,
   "id": "5d954e9a",
   "metadata": {},
   "outputs": [],
   "source": [
    "# nodes\n",
    "for comment in df.iterrows():\n",
    "    MLN.add_node(comment[1]['id'], layer='content')"
   ]
  },
  {
   "cell_type": "code",
   "execution_count": 6,
   "id": "4ef7e804",
   "metadata": {},
   "outputs": [],
   "source": [
    "edges_c = []\n",
    "for i in range(0, len(df)):\n",
    "    current_id = df.iloc[i]['id']\n",
    "    current_topics = df.iloc[i]['topics']\n",
    "    for j in range(i+1, len(df)):\n",
    "        next_id = df.iloc[j]['id']\n",
    "        next_topics = df.iloc[j]['topics']\n",
    "        if len(set(current_topics).intersection(set(next_topics))) > 0:\n",
    "            edges_c.append((current_id, next_id, list(set(current_topics).intersection(set(next_topics)))))\n",
    "    if i % 1000 == 0:\n",
    "        with open(f'tmp/edges_c_{i}.pickle', 'wb') as f:\n",
    "            pickle.dump(edges_c, f)\n",
    "        del edges_c[:]\n",
    "        del edges_c\n",
    "        edges_c = []"
   ]
  },
  {
   "cell_type": "code",
   "execution_count": 7,
   "id": "c1ea77c8",
   "metadata": {},
   "outputs": [],
   "source": [
    "from os import listdir\n",
    "from os.path import isfile, join\n",
    "pickles = [f for f in listdir('tmp') if isfile(join('tmp', f))]\n",
    "for file in pickles:\n",
    "    with open(f'tmp/{file}', 'rb') as f:\n",
    "        current = list(pickle.load(f))\n",
    "    for edge in current:\n",
    "        MLN.add_edge(edge[0], edge[1], layer='content', label=edge[2])\n",
    "    del current[:]\n",
    "    del current"
   ]
  },
  {
   "cell_type": "markdown",
   "id": "852d48d3",
   "metadata": {},
   "source": [
    "### Social phenomenon layer"
   ]
  },
  {
   "cell_type": "code",
   "execution_count": 9,
   "id": "8e753099",
   "metadata": {},
   "outputs": [],
   "source": [
    "spl_nodes = ['A', 'M', 'L', 'S', 'I', 'E']\n",
    "for node in spl_nodes:\n",
    "    MLN.add_node(node, layer='socialphenomenon')\n",
    "spl_edges = [('A', 'M', 'similarity'), ('A', 'S', 'association'), ('A', 'I', 'causality'), ('A', 'E', 'causality'),\n",
    "            ('M', 'S', 'causality'), ('M', 'I', 'association'), ('M', 'E', 'causality'), ('L', 'S', 'association')]\n",
    "for edge in spl_edges:\n",
    "    MLN.add_edge(edge[0], edge[1], layer='socialphenomenon', label=edge[2])"
   ]
  },
  {
   "cell_type": "markdown",
   "id": "5c5bd663",
   "metadata": {},
   "source": [
    "### Multi-layer edges"
   ]
  },
  {
   "cell_type": "code",
   "execution_count": 96,
   "id": "8431c6e3",
   "metadata": {},
   "outputs": [],
   "source": [
    "# Edges between U and C\n",
    "posting_edges = list(df[['author', 'id']].itertuples(index=False, name=None))\n",
    "df_interactions = df[['author', 'id', 'parent_id']].copy()\n",
    "df_interactions['parent_id'] = df_interactions['parent_id'].apply(lambda x: x.split('_')[1])\n",
    "df_interactions = df_interactions.loc[df_interactions['parent_id'].isin(list(df_interactions['id']))]\n",
    "interactions_edges = list(df_interactions[['author', 'parent_id']].itertuples(index=False, name=None))\n",
    "u_c_edges = []\n",
    "u_c_edges.extend(posting_edges)\n",
    "u_c_edges.extend(interactions_edges)\n",
    "for edge in u_c_edges:\n",
    "    MLN.add_edge(edge[0], edge[1], layer='multi_u_c')"
   ]
  },
  {
   "cell_type": "code",
   "execution_count": 25,
   "id": "2756f3cd",
   "metadata": {},
   "outputs": [],
   "source": [
    "# Edges between C and S\n",
    "c_s_edges = []\n",
    "for row in df[['id', 'sub-types']].itertuples():\n",
    "    _id = row[1]\n",
    "    _sts = row[2]\n",
    "    for st in _sts:\n",
    "        c_s_edges.append((_id, st))\n",
    "for edge in c_s_edges:\n",
    "    MLN.add_edge(edge[0], edge[1], layer='multi_c_s')"
   ]
  },
  {
   "cell_type": "markdown",
   "id": "5a702cd3",
   "metadata": {},
   "source": [
    "# Clean"
   ]
  },
  {
   "cell_type": "code",
   "execution_count": 72,
   "id": "f1edd16c",
   "metadata": {},
   "outputs": [],
   "source": [
    "# Remove nodes and edges with no \"layer\"\n",
    "nodes_to_remove = [node for node in MLN.nodes() if 'layer' not in MLN.nodes[node]]\n",
    "edges_to_remove = [(u, v) for u, v, data in MLN.edges(data=True) if 'layer' not in data]\n",
    "MLN.remove_nodes_from(nodes_to_remove)\n",
    "MLN.remove_edges_from(edges_to_remove)\n",
    "pickle.dump(MLN, open('MLN.pickle', 'wb'))"
   ]
  },
  {
   "cell_type": "markdown",
   "id": "b9631d74",
   "metadata": {},
   "source": [
    "# Descriptive analyses"
   ]
  },
  {
   "cell_type": "code",
   "execution_count": 77,
   "id": "d26e3562",
   "metadata": {},
   "outputs": [],
   "source": [
    "def get_sub_graph(G, layer):\n",
    "    sub_graph = nx.Graph()\n",
    "    for node, data in G.nodes(data=True):\n",
    "        if 'layer' in data and data['layer'] == layer:\n",
    "            sub_graph.add_node(node, **data)\n",
    "    for node1, node2, data in G.edges(data=True):\n",
    "        if 'layer' in data and data['layer'] == layer:\n",
    "            sub_graph.add_edge(node1, node2, **data)\n",
    "    return sub_graph"
   ]
  },
  {
   "cell_type": "code",
   "execution_count": 83,
   "id": "0af119ce",
   "metadata": {},
   "outputs": [
    {
     "name": "stdout",
     "output_type": "stream",
     "text": [
      "Nodes 16976\n",
      "Edges 2642943\n",
      "Num conn comp 1172\n",
      "Max conn comp 21\n"
     ]
    }
   ],
   "source": [
    "user_layer = get_sub_graph(MLN, 'user')\n",
    "print(f'Nodes {len(user_layer.nodes)}')\n",
    "print(f'Edges {len(user_layer.edges)}')\n",
    "conn_comps = list(nx.connected_components(user_layer))\n",
    "print(f'Num conn comp {len(conn_comps)}')\n",
    "print(f'Max conn comp {len(max(conn_comps))}')"
   ]
  },
  {
   "cell_type": "code",
   "execution_count": 84,
   "id": "0bb8af48",
   "metadata": {},
   "outputs": [
    {
     "name": "stdout",
     "output_type": "stream",
     "text": [
      "Nodes 20102\n",
      "Edges 75168155\n",
      "Num conn comp 200\n",
      "Max conn comp 19890\n"
     ]
    }
   ],
   "source": [
    "content_layer = get_sub_graph(MLN, 'content')\n",
    "print(f'Nodes {len(content_layer.nodes)}')\n",
    "print(f'Edges {len(content_layer.edges)}')\n",
    "conn_comps = list(nx.connected_components(content_layer))\n",
    "print(f'Num conn comp {len(conn_comps)}')\n",
    "print(f'Max conn comp {len(max(conn_comps))}')"
   ]
  },
  {
   "cell_type": "code",
   "execution_count": 87,
   "id": "83bcfba1",
   "metadata": {},
   "outputs": [],
   "source": [
    "pickle.dump(user_layer, open('user_layer.pickle', 'wb'))\n",
    "pickle.dump(content_layer, open('content_layer.pickle', 'wb'))"
   ]
  },
  {
   "cell_type": "code",
   "execution_count": 88,
   "id": "abb54c20",
   "metadata": {},
   "outputs": [
    {
     "name": "stdout",
     "output_type": "stream",
     "text": [
      "User density 0.018343096170423047\n",
      "Content density 0.37205483614086543\n"
     ]
    }
   ],
   "source": [
    "print(f'User density {nx.density(user_layer)}')\n",
    "print(f'Content density {nx.density(content_layer)}')"
   ]
  },
  {
   "cell_type": "code",
   "execution_count": 99,
   "id": "926488d4",
   "metadata": {},
   "outputs": [
    {
     "data": {
      "text/plain": [
       "22439"
      ]
     },
     "execution_count": 99,
     "metadata": {},
     "output_type": "execute_result"
    }
   ],
   "source": [
    "len(u_c_edges)"
   ]
  },
  {
   "cell_type": "code",
   "execution_count": 97,
   "id": "b0a35bc7",
   "metadata": {},
   "outputs": [
    {
     "data": {
      "text/plain": [
       "0"
      ]
     },
     "execution_count": 97,
     "metadata": {},
     "output_type": "execute_result"
    }
   ],
   "source": [
    "nodes_edges = [u[0] for u in u_c_edges]\n",
    "len(set(user_layer.nodes).difference(set(nodes_edges)))"
   ]
  },
  {
   "cell_type": "code",
   "execution_count": 98,
   "id": "48e218e0",
   "metadata": {},
   "outputs": [
    {
     "data": {
      "text/plain": [
       "0"
      ]
     },
     "execution_count": 98,
     "metadata": {},
     "output_type": "execute_result"
    }
   ],
   "source": [
    "nodes_edges = [u[0] for u in c_s_edges]\n",
    "len(set(content_layer.nodes).difference(set(nodes_edges)))"
   ]
  },
  {
   "cell_type": "code",
   "execution_count": 100,
   "id": "3447caac",
   "metadata": {},
   "outputs": [],
   "source": [
    "del user_layer"
   ]
  },
  {
   "cell_type": "code",
   "execution_count": 101,
   "id": "6aaa2321",
   "metadata": {},
   "outputs": [],
   "source": [
    "del content_layer"
   ]
  },
  {
   "cell_type": "markdown",
   "id": "774e8792",
   "metadata": {},
   "source": [
    "# Draw graph"
   ]
  },
  {
   "cell_type": "code",
   "execution_count": 102,
   "id": "4fcb5f9c",
   "metadata": {},
   "outputs": [
    {
     "ename": "KeyboardInterrupt",
     "evalue": "",
     "output_type": "error",
     "traceback": [
      "\u001b[0;31m---------------------------------------------------------------------------\u001b[0m",
      "\u001b[0;31mKeyboardInterrupt\u001b[0m                         Traceback (most recent call last)",
      "\u001b[0;32m/tmp/ipykernel_24787/1141675316.py\u001b[0m in \u001b[0;36m<module>\u001b[0;34m\u001b[0m\n\u001b[1;32m     41\u001b[0m \u001b[0;31m# Take a part of the graph MLN\u001b[0m\u001b[0;34m\u001b[0m\u001b[0;34m\u001b[0m\u001b[0;34m\u001b[0m\u001b[0m\n\u001b[1;32m     42\u001b[0m \u001b[0msub_graph\u001b[0m \u001b[0;34m=\u001b[0m \u001b[0mnx\u001b[0m\u001b[0;34m.\u001b[0m\u001b[0mGraph\u001b[0m\u001b[0;34m(\u001b[0m\u001b[0mMLN\u001b[0m\u001b[0;34m.\u001b[0m\u001b[0msubgraph\u001b[0m\u001b[0;34m(\u001b[0m\u001b[0mnodes\u001b[0m\u001b[0;34m)\u001b[0m\u001b[0;34m)\u001b[0m\u001b[0;34m\u001b[0m\u001b[0;34m\u001b[0m\u001b[0m\n\u001b[0;32m---> 43\u001b[0;31m \u001b[0mdraw_multilayer_graph\u001b[0m\u001b[0;34m(\u001b[0m\u001b[0msub_graph\u001b[0m\u001b[0;34m)\u001b[0m\u001b[0;34m\u001b[0m\u001b[0;34m\u001b[0m\u001b[0m\n\u001b[0m",
      "\u001b[0;32m/tmp/ipykernel_24787/1141675316.py\u001b[0m in \u001b[0;36mdraw_multilayer_graph\u001b[0;34m(G)\u001b[0m\n\u001b[1;32m     20\u001b[0m \u001b[0;34m\u001b[0m\u001b[0m\n\u001b[1;32m     21\u001b[0m \u001b[0;32mdef\u001b[0m \u001b[0mdraw_multilayer_graph\u001b[0m\u001b[0;34m(\u001b[0m\u001b[0mG\u001b[0m\u001b[0;34m)\u001b[0m\u001b[0;34m:\u001b[0m\u001b[0;34m\u001b[0m\u001b[0;34m\u001b[0m\u001b[0m\n\u001b[0;32m---> 22\u001b[0;31m     \u001b[0mpos\u001b[0m \u001b[0;34m=\u001b[0m \u001b[0mnx\u001b[0m\u001b[0;34m.\u001b[0m\u001b[0mspring_layout\u001b[0m\u001b[0;34m(\u001b[0m\u001b[0mG\u001b[0m\u001b[0;34m)\u001b[0m\u001b[0;34m\u001b[0m\u001b[0;34m\u001b[0m\u001b[0m\n\u001b[0m\u001b[1;32m     23\u001b[0m     \u001b[0mnode_labels\u001b[0m \u001b[0;34m=\u001b[0m \u001b[0;34m{\u001b[0m\u001b[0;34m}\u001b[0m\u001b[0;34m\u001b[0m\u001b[0;34m\u001b[0m\u001b[0m\n\u001b[1;32m     24\u001b[0m     \u001b[0;32mfor\u001b[0m \u001b[0mnode\u001b[0m\u001b[0;34m,\u001b[0m \u001b[0mdata\u001b[0m \u001b[0;32min\u001b[0m \u001b[0mG\u001b[0m\u001b[0;34m.\u001b[0m\u001b[0mnodes\u001b[0m\u001b[0;34m(\u001b[0m\u001b[0mdata\u001b[0m\u001b[0;34m=\u001b[0m\u001b[0;32mTrue\u001b[0m\u001b[0;34m)\u001b[0m\u001b[0;34m:\u001b[0m\u001b[0;34m\u001b[0m\u001b[0;34m\u001b[0m\u001b[0m\n",
      "\u001b[0;32m/usr/local/lib/python3.9/dist-packages/networkx/utils/decorators.py\u001b[0m in \u001b[0;36mfunc\u001b[0;34m(_argmap__wrapper, *args, **kwargs)\u001b[0m\n\u001b[1;32m    793\u001b[0m \u001b[0;34m\u001b[0m\u001b[0m\n\u001b[1;32m    794\u001b[0m             \u001b[0;32mdef\u001b[0m \u001b[0mfunc\u001b[0m\u001b[0;34m(\u001b[0m\u001b[0;34m*\u001b[0m\u001b[0margs\u001b[0m\u001b[0;34m,\u001b[0m \u001b[0m__wrapper\u001b[0m\u001b[0;34m=\u001b[0m\u001b[0;32mNone\u001b[0m\u001b[0;34m,\u001b[0m \u001b[0;34m**\u001b[0m\u001b[0mkwargs\u001b[0m\u001b[0;34m)\u001b[0m\u001b[0;34m:\u001b[0m\u001b[0;34m\u001b[0m\u001b[0;34m\u001b[0m\u001b[0m\n\u001b[0;32m--> 795\u001b[0;31m                 \u001b[0;32mreturn\u001b[0m \u001b[0margmap\u001b[0m\u001b[0;34m.\u001b[0m\u001b[0m_lazy_compile\u001b[0m\u001b[0;34m(\u001b[0m\u001b[0m__wrapper\u001b[0m\u001b[0;34m)\u001b[0m\u001b[0;34m(\u001b[0m\u001b[0;34m*\u001b[0m\u001b[0margs\u001b[0m\u001b[0;34m,\u001b[0m \u001b[0;34m**\u001b[0m\u001b[0mkwargs\u001b[0m\u001b[0;34m)\u001b[0m\u001b[0;34m\u001b[0m\u001b[0;34m\u001b[0m\u001b[0m\n\u001b[0m\u001b[1;32m    796\u001b[0m \u001b[0;34m\u001b[0m\u001b[0m\n\u001b[1;32m    797\u001b[0m         \u001b[0;31m# standard function-wrapping stuff\u001b[0m\u001b[0;34m\u001b[0m\u001b[0;34m\u001b[0m\u001b[0;34m\u001b[0m\u001b[0m\n",
      "\u001b[0;32m/usr/local/lib/python3.9/dist-packages/networkx/utils/decorators.py\u001b[0m in \u001b[0;36margmap_spring_layout_9\u001b[0;34m(G, k, pos, fixed, iterations, threshold, weight, scale, center, dim, seed)\u001b[0m\n\u001b[1;32m      2\u001b[0m \u001b[0;32mfrom\u001b[0m \u001b[0mos\u001b[0m\u001b[0;34m.\u001b[0m\u001b[0mpath\u001b[0m \u001b[0;32mimport\u001b[0m \u001b[0msplitext\u001b[0m\u001b[0;34m\u001b[0m\u001b[0;34m\u001b[0m\u001b[0m\n\u001b[1;32m      3\u001b[0m \u001b[0;32mfrom\u001b[0m \u001b[0mcontextlib\u001b[0m \u001b[0;32mimport\u001b[0m \u001b[0mcontextmanager\u001b[0m\u001b[0;34m\u001b[0m\u001b[0;34m\u001b[0m\u001b[0m\n\u001b[0;32m----> 4\u001b[0;31m \u001b[0;32mfrom\u001b[0m \u001b[0mpathlib\u001b[0m \u001b[0;32mimport\u001b[0m \u001b[0mPath\u001b[0m\u001b[0;34m\u001b[0m\u001b[0;34m\u001b[0m\u001b[0m\n\u001b[0m\u001b[1;32m      5\u001b[0m \u001b[0;32mimport\u001b[0m \u001b[0mwarnings\u001b[0m\u001b[0;34m\u001b[0m\u001b[0;34m\u001b[0m\u001b[0m\n\u001b[1;32m      6\u001b[0m \u001b[0;34m\u001b[0m\u001b[0m\n",
      "\u001b[0;32m/usr/local/lib/python3.9/dist-packages/networkx/drawing/layout.py\u001b[0m in \u001b[0;36mspring_layout\u001b[0;34m(G, k, pos, fixed, iterations, threshold, weight, scale, center, dim, seed)\u001b[0m\n\u001b[1;32m    479\u001b[0m             \u001b[0mnnodes\u001b[0m\u001b[0;34m,\u001b[0m \u001b[0m_\u001b[0m \u001b[0;34m=\u001b[0m \u001b[0mA\u001b[0m\u001b[0;34m.\u001b[0m\u001b[0mshape\u001b[0m\u001b[0;34m\u001b[0m\u001b[0;34m\u001b[0m\u001b[0m\n\u001b[1;32m    480\u001b[0m             \u001b[0mk\u001b[0m \u001b[0;34m=\u001b[0m \u001b[0mdom_size\u001b[0m \u001b[0;34m/\u001b[0m \u001b[0mnp\u001b[0m\u001b[0;34m.\u001b[0m\u001b[0msqrt\u001b[0m\u001b[0;34m(\u001b[0m\u001b[0mnnodes\u001b[0m\u001b[0;34m)\u001b[0m\u001b[0;34m\u001b[0m\u001b[0;34m\u001b[0m\u001b[0m\n\u001b[0;32m--> 481\u001b[0;31m         pos = _sparse_fruchterman_reingold(\n\u001b[0m\u001b[1;32m    482\u001b[0m             \u001b[0mA\u001b[0m\u001b[0;34m,\u001b[0m \u001b[0mk\u001b[0m\u001b[0;34m,\u001b[0m \u001b[0mpos_arr\u001b[0m\u001b[0;34m,\u001b[0m \u001b[0mfixed\u001b[0m\u001b[0;34m,\u001b[0m \u001b[0miterations\u001b[0m\u001b[0;34m,\u001b[0m \u001b[0mthreshold\u001b[0m\u001b[0;34m,\u001b[0m \u001b[0mdim\u001b[0m\u001b[0;34m,\u001b[0m \u001b[0mseed\u001b[0m\u001b[0;34m\u001b[0m\u001b[0;34m\u001b[0m\u001b[0m\n\u001b[1;32m    483\u001b[0m         )\n",
      "\u001b[0;32m/usr/local/lib/python3.9/dist-packages/networkx/utils/decorators.py\u001b[0m in \u001b[0;36mfunc\u001b[0;34m(_argmap__wrapper, *args, **kwargs)\u001b[0m\n\u001b[1;32m    793\u001b[0m \u001b[0;34m\u001b[0m\u001b[0m\n\u001b[1;32m    794\u001b[0m             \u001b[0;32mdef\u001b[0m \u001b[0mfunc\u001b[0m\u001b[0;34m(\u001b[0m\u001b[0;34m*\u001b[0m\u001b[0margs\u001b[0m\u001b[0;34m,\u001b[0m \u001b[0m__wrapper\u001b[0m\u001b[0;34m=\u001b[0m\u001b[0;32mNone\u001b[0m\u001b[0;34m,\u001b[0m \u001b[0;34m**\u001b[0m\u001b[0mkwargs\u001b[0m\u001b[0;34m)\u001b[0m\u001b[0;34m:\u001b[0m\u001b[0;34m\u001b[0m\u001b[0;34m\u001b[0m\u001b[0m\n\u001b[0;32m--> 795\u001b[0;31m                 \u001b[0;32mreturn\u001b[0m \u001b[0margmap\u001b[0m\u001b[0;34m.\u001b[0m\u001b[0m_lazy_compile\u001b[0m\u001b[0;34m(\u001b[0m\u001b[0m__wrapper\u001b[0m\u001b[0;34m)\u001b[0m\u001b[0;34m(\u001b[0m\u001b[0;34m*\u001b[0m\u001b[0margs\u001b[0m\u001b[0;34m,\u001b[0m \u001b[0;34m**\u001b[0m\u001b[0mkwargs\u001b[0m\u001b[0;34m)\u001b[0m\u001b[0;34m\u001b[0m\u001b[0;34m\u001b[0m\u001b[0m\n\u001b[0m\u001b[1;32m    796\u001b[0m \u001b[0;34m\u001b[0m\u001b[0m\n\u001b[1;32m    797\u001b[0m         \u001b[0;31m# standard function-wrapping stuff\u001b[0m\u001b[0;34m\u001b[0m\u001b[0;34m\u001b[0m\u001b[0;34m\u001b[0m\u001b[0m\n",
      "\u001b[0;32m/usr/local/lib/python3.9/dist-packages/networkx/utils/decorators.py\u001b[0m in \u001b[0;36margmap__sparse_fruchterman_reingold_13\u001b[0;34m(A, k, pos, fixed, iterations, threshold, dim, seed)\u001b[0m\n\u001b[1;32m      2\u001b[0m \u001b[0;32mfrom\u001b[0m \u001b[0mos\u001b[0m\u001b[0;34m.\u001b[0m\u001b[0mpath\u001b[0m \u001b[0;32mimport\u001b[0m \u001b[0msplitext\u001b[0m\u001b[0;34m\u001b[0m\u001b[0;34m\u001b[0m\u001b[0m\n\u001b[1;32m      3\u001b[0m \u001b[0;32mfrom\u001b[0m \u001b[0mcontextlib\u001b[0m \u001b[0;32mimport\u001b[0m \u001b[0mcontextmanager\u001b[0m\u001b[0;34m\u001b[0m\u001b[0;34m\u001b[0m\u001b[0m\n\u001b[0;32m----> 4\u001b[0;31m \u001b[0;32mfrom\u001b[0m \u001b[0mpathlib\u001b[0m \u001b[0;32mimport\u001b[0m \u001b[0mPath\u001b[0m\u001b[0;34m\u001b[0m\u001b[0;34m\u001b[0m\u001b[0m\n\u001b[0m\u001b[1;32m      5\u001b[0m \u001b[0;32mimport\u001b[0m \u001b[0mwarnings\u001b[0m\u001b[0;34m\u001b[0m\u001b[0;34m\u001b[0m\u001b[0m\n\u001b[1;32m      6\u001b[0m \u001b[0;34m\u001b[0m\u001b[0m\n",
      "\u001b[0;32m/usr/local/lib/python3.9/dist-packages/networkx/drawing/layout.py\u001b[0m in \u001b[0;36m_sparse_fruchterman_reingold\u001b[0;34m(A, k, pos, fixed, iterations, threshold, dim, seed)\u001b[0m\n\u001b[1;32m    620\u001b[0m             \u001b[0mdistance\u001b[0m \u001b[0;34m=\u001b[0m \u001b[0mnp\u001b[0m\u001b[0;34m.\u001b[0m\u001b[0mwhere\u001b[0m\u001b[0;34m(\u001b[0m\u001b[0mdistance\u001b[0m \u001b[0;34m<\u001b[0m \u001b[0;36m0.01\u001b[0m\u001b[0;34m,\u001b[0m \u001b[0;36m0.01\u001b[0m\u001b[0;34m,\u001b[0m \u001b[0mdistance\u001b[0m\u001b[0;34m)\u001b[0m\u001b[0;34m\u001b[0m\u001b[0;34m\u001b[0m\u001b[0m\n\u001b[1;32m    621\u001b[0m             \u001b[0;31m# the adjacency matrix row\u001b[0m\u001b[0;34m\u001b[0m\u001b[0;34m\u001b[0m\u001b[0;34m\u001b[0m\u001b[0m\n\u001b[0;32m--> 622\u001b[0;31m             \u001b[0mAi\u001b[0m \u001b[0;34m=\u001b[0m \u001b[0mnp\u001b[0m\u001b[0;34m.\u001b[0m\u001b[0masarray\u001b[0m\u001b[0;34m(\u001b[0m\u001b[0mA\u001b[0m\u001b[0;34m.\u001b[0m\u001b[0mgetrowview\u001b[0m\u001b[0;34m(\u001b[0m\u001b[0mi\u001b[0m\u001b[0;34m)\u001b[0m\u001b[0;34m.\u001b[0m\u001b[0mtoarray\u001b[0m\u001b[0;34m(\u001b[0m\u001b[0;34m)\u001b[0m\u001b[0;34m)\u001b[0m\u001b[0;34m\u001b[0m\u001b[0;34m\u001b[0m\u001b[0m\n\u001b[0m\u001b[1;32m    623\u001b[0m             \u001b[0;31m# displacement \"force\"\u001b[0m\u001b[0;34m\u001b[0m\u001b[0;34m\u001b[0m\u001b[0;34m\u001b[0m\u001b[0m\n\u001b[1;32m    624\u001b[0m             displacement[:, i] += (\n",
      "\u001b[0;32m/usr/local/lib/python3.9/dist-packages/scipy/sparse/lil.py\u001b[0m in \u001b[0;36mtoarray\u001b[0;34m(self, order, out)\u001b[0m\n\u001b[1;32m    429\u001b[0m         \u001b[0;32mfor\u001b[0m \u001b[0mi\u001b[0m\u001b[0;34m,\u001b[0m \u001b[0mrow\u001b[0m \u001b[0;32min\u001b[0m \u001b[0menumerate\u001b[0m\u001b[0;34m(\u001b[0m\u001b[0mself\u001b[0m\u001b[0;34m.\u001b[0m\u001b[0mrows\u001b[0m\u001b[0;34m)\u001b[0m\u001b[0;34m:\u001b[0m\u001b[0;34m\u001b[0m\u001b[0;34m\u001b[0m\u001b[0m\n\u001b[1;32m    430\u001b[0m             \u001b[0;32mfor\u001b[0m \u001b[0mpos\u001b[0m\u001b[0;34m,\u001b[0m \u001b[0mj\u001b[0m \u001b[0;32min\u001b[0m \u001b[0menumerate\u001b[0m\u001b[0;34m(\u001b[0m\u001b[0mrow\u001b[0m\u001b[0;34m)\u001b[0m\u001b[0;34m:\u001b[0m\u001b[0;34m\u001b[0m\u001b[0;34m\u001b[0m\u001b[0m\n\u001b[0;32m--> 431\u001b[0;31m                 \u001b[0md\u001b[0m\u001b[0;34m[\u001b[0m\u001b[0mi\u001b[0m\u001b[0;34m,\u001b[0m \u001b[0mj\u001b[0m\u001b[0;34m]\u001b[0m \u001b[0;34m=\u001b[0m \u001b[0mself\u001b[0m\u001b[0;34m.\u001b[0m\u001b[0mdata\u001b[0m\u001b[0;34m[\u001b[0m\u001b[0mi\u001b[0m\u001b[0;34m]\u001b[0m\u001b[0;34m[\u001b[0m\u001b[0mpos\u001b[0m\u001b[0;34m]\u001b[0m\u001b[0;34m\u001b[0m\u001b[0;34m\u001b[0m\u001b[0m\n\u001b[0m\u001b[1;32m    432\u001b[0m         \u001b[0;32mreturn\u001b[0m \u001b[0md\u001b[0m\u001b[0;34m\u001b[0m\u001b[0;34m\u001b[0m\u001b[0m\n\u001b[1;32m    433\u001b[0m \u001b[0;34m\u001b[0m\u001b[0m\n",
      "\u001b[0;31mKeyboardInterrupt\u001b[0m: "
     ]
    }
   ],
   "source": [
    "import networkx as nx\n",
    "import matplotlib.pyplot as plt\n",
    "\n",
    "user_layer = pickle.load(open('user_layer.pickle', 'rb'))\n",
    "content_layer = pickle.load(open('content_layer.pickle', 'rb'))\n",
    "\n",
    "connected_components = nx.connected_components(user_layer)\n",
    "biggest_cc = max(connected_components, key=len)\n",
    "nodes = list(biggest_cc)\n",
    "\n",
    "for u, v, data in MLN.edges(data=True):\n",
    "    if data['layer'] == 'multi_u_c' and u in nodes:\n",
    "        nodes.append(v)\n",
    "for u, data in MLN.nodes(data=True):\n",
    "    if data['layer'] == 'socialphenomenon':\n",
    "        nodes.append(u)\n",
    "        \n",
    "del user_layer\n",
    "del content_layer\n",
    "\n",
    "def draw_multilayer_graph(G):\n",
    "    pos = nx.spring_layout(G)\n",
    "    node_labels = {}\n",
    "    for node, data in G.nodes(data=True):\n",
    "        node_labels[node] = node\n",
    "        if data['layer'] == 'user':\n",
    "            nx.draw_networkx_nodes(G, pos, [node], node_size=50, node_color='red')\n",
    "        elif data['layer'] == 'content':\n",
    "            nx.draw_networkx_nodes(G, pos, [node], node_size=50, node_color='green')\n",
    "        elif data['layer'] == 'socialphenomenon':\n",
    "            nx.draw_networkx_nodes(G, pos, [node], node_size=50, node_color='blue')\n",
    "    for u, v, data in G.edges(data=True):\n",
    "        if data['layer'] == 'multi_u_c':\n",
    "            nx.draw_networkx_edges(G, pos, [(u, v)], edge_color='red', width=1.0)\n",
    "        elif data['layer'] == 'multi_c_s':\n",
    "            nx.draw_networkx_edges(G, pos, [(u, v)], edge_color='green', width=1.0)\n",
    "    nx.draw_networkx_labels(G, pos, node_labels)\n",
    "    plt.axis('off')\n",
    "    plt.show()\n",
    "\n",
    "# Take a part of the graph MLN\n",
    "sub_graph = nx.Graph(MLN.subgraph(nodes))\n",
    "draw_multilayer_graph(sub_graph)"
   ]
  },
  {
   "cell_type": "code",
   "execution_count": null,
   "id": "d8ab28eb",
   "metadata": {},
   "outputs": [],
   "source": []
  }
 ],
 "metadata": {
  "kernelspec": {
   "display_name": "Python 3 (ipykernel)",
   "language": "python",
   "name": "python3"
  },
  "language_info": {
   "codemirror_mode": {
    "name": "ipython",
    "version": 3
   },
   "file_extension": ".py",
   "mimetype": "text/x-python",
   "name": "python",
   "nbconvert_exporter": "python",
   "pygments_lexer": "ipython3",
   "version": "3.9.5"
  }
 },
 "nbformat": 4,
 "nbformat_minor": 5
}
