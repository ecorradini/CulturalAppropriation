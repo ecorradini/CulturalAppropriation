{
 "cells": [
  {
   "cell_type": "code",
   "execution_count": null,
   "id": "d4a6b7c0",
   "metadata": {},
   "outputs": [],
   "source": [
    "import pandas as pd\n",
    "import zstandard\n",
    "import io\n",
    "import wget\n",
    "import os"
   ]
  },
  {
   "cell_type": "markdown",
   "id": "70e541cb",
   "metadata": {},
   "source": [
    "# Dataset download from pushshift as JSON"
   ]
  },
  {
   "cell_type": "code",
   "execution_count": null,
   "id": "543246d9",
   "metadata": {},
   "outputs": [],
   "source": [
    "def check_if_ca(line):\n",
    "    keywords = [\"cultural appropriation\", \"cultural misappropriation\", \"cultural insensitivity\", \"cultural stereotyping\",\n",
    "            \"cultural exploitation\", \"cultural misrepresentation\", \"traditional symbol\", \"traditional clothing\",\n",
    "            \"linguistic appropriation\", \"language appropriation\", \"religious appropriation\", \"cultural commodification\",\n",
    "            \"artifact appropriation\"]\n",
    "    if any(ext in line.lower() for ext in keywords):\n",
    "        return True\n",
    "    else:\n",
    "        return False"
   ]
  },
  {
   "cell_type": "code",
   "execution_count": null,
   "id": "9b311a02",
   "metadata": {},
   "outputs": [],
   "source": [
    "for i in range(1,4):\n",
    "    month = f'{i}'\n",
    "    if i < 10:\n",
    "        month = f'0{i}'\n",
    "    url = f'https://files.pushshift.io/reddit/comments/RC_2022-{month}.zst'\n",
    "    filename = wget.download(url)\n",
    "    with open('comments_2022.json', 'a+') as out:\n",
    "        with open(filename, 'rb') as fh:\n",
    "            dctx = zstandard.ZstdDecompressor(max_window_size=2147483648)\n",
    "            stream_reader = dctx.stream_reader(fh)\n",
    "            text_stream = io.TextIOWrapper(stream_reader, encoding='utf-8')\n",
    "            for line in text_stream:\n",
    "                if check_if_ca(line):\n",
    "                    out.write(line)\n",
    "    os.remove(filename)"
   ]
  },
  {
   "cell_type": "code",
   "execution_count": null,
   "id": "c67a6d11",
   "metadata": {},
   "outputs": [],
   "source": [
    "comments = pd.read_json('comments_2022.json', lines=True)\n",
    "comments = comments[['id', 'parent_id', 'author','subreddit','body']]\n",
    "comments.to_csv('comments_2022.csv', index=False)"
   ]
  }
 ],
 "metadata": {
  "kernelspec": {
   "display_name": "Python 3 (ipykernel)",
   "language": "python",
   "name": "python3"
  },
  "language_info": {
   "codemirror_mode": {
    "name": "ipython",
    "version": 3
   },
   "file_extension": ".py",
   "mimetype": "text/x-python",
   "name": "python",
   "nbconvert_exporter": "python",
   "pygments_lexer": "ipython3",
   "version": "3.9.5"
  }
 },
 "nbformat": 4,
 "nbformat_minor": 5
}
